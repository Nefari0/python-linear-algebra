{
 "cells": [
  {
   "cell_type": "code",
   "execution_count": 56,
   "metadata": {},
   "outputs": [],
   "source": [
    "import numpy as np\n",
    "from IPython.display import display, Math\n",
    "import matplotlib.pyplot as plt"
   ]
  },
  {
   "cell_type": "code",
   "execution_count": 2,
   "metadata": {},
   "outputs": [
    {
     "name": "stdout",
     "output_type": "stream",
     "text": [
      "596 596 596\n"
     ]
    }
   ],
   "source": [
    "v = np.arange(10,22,3)\n",
    "w = np.arange(5,15,3)\n",
    "\n",
    "# print('w',len(w))\n",
    "# print('v',len(v))\n",
    "\n",
    "# ----- three methods for computing dot product( dp1, dp2, dp3)\n",
    "dp1 = 0\n",
    "for i in range(0,len(v)):\n",
    "    dp1 = dp1 + v[i] * w[i]\n",
    "    \n",
    "dp2 = np.sum( np.multiply(v,w))\n",
    "dp3 = np.dot(v,w)\n",
    "\n",
    "print(dp1,dp2,dp3)"
   ]
  },
  {
   "cell_type": "code",
   "execution_count": 38,
   "metadata": {},
   "outputs": [
    {
     "data": {
      "text/latex": [
       "$\\displaystyle v^Tw = 0.4762337173629222$"
      ],
      "text/plain": [
       "<IPython.core.display.Math object>"
      ]
     },
     "metadata": {},
     "output_type": "display_data"
    }
   ],
   "source": [
    "\n",
    "def myDotProduct(v,w):\n",
    "    \n",
    "    w = np.squeeze(w)\n",
    "    v = np.squeeze(v)\n",
    "    \n",
    "#     test whether ti product is defined \n",
    "    if len(v)!= len(w):\n",
    "        raise ValueError('Vec5tors must have the same length!!')\n",
    "      # compute and display the dot product  \n",
    "    display(Math('v^Tw = %s' %np.dot(v,w)))\n",
    "        \n",
    "myDotProduct(v1,v2)\n"
   ]
  },
  {
   "cell_type": "markdown",
   "metadata": {},
   "source": [
    "## Dot Product Application"
   ]
  },
  {
   "cell_type": "code",
   "execution_count": 67,
   "metadata": {},
   "outputs": [
    {
     "data": {
      "image/png": "[encoded data removed]",
      "text/plain": [
       "<Figure size 432x288 with 1 Axes>"
      ]
     },
     "metadata": {
      "needs_background": "light"
     },
     "output_type": "display_data"
    }
   ],
   "source": [
    "# data\n",
    "\n",
    "var1 = [4,5,8,2,9,9,1,3,7]\n",
    "var2 = [6,7,9,3,9,3,1,6,7]\n",
    "\n",
    "# mean - center\n",
    "v1 = var1 - np.mean(var1)\n",
    "v2 = var2 - np.mean(var2)\n",
    "\n",
    "# compute correlation\n",
    "numer = np.dot(v1,v2)\n",
    "denom = np.sqrt(np.dot(v1,v1)) * np.sqrt(np.dot(v2,v2))\n",
    "\n",
    "r1 = numer/denom\n",
    "r2 = np.corrcoef(v1,v2)[1][0]\n",
    "\n",
    "plt.plot(var1,var2,'ms',label='r=%g' %(np.roundr2))\n",
    "\n",
    "plt.legend()\n",
    "plt.axis([0,10,0,10])\n",
    "plt.xlabel('var1')\n",
    "plt.ylabel('var2')\n",
    "plt.show()"
   ]
  }
 ],
 "metadata": {
  "kernelspec": {
   "display_name": "Python 3",
   "language": "python",
   "name": "python3"
  },
  "language_info": {
   "codemirror_mode": {
    "name": "ipython",
    "version": 3
   },
   "file_extension": ".py",
   "mimetype": "text/x-python",
   "name": "python",
   "nbconvert_exporter": "python",
   "pygments_lexer": "ipython3",
   "version": "3.8.5"
  }
 },
 "nbformat": 4,
 "nbformat_minor": 4
}
