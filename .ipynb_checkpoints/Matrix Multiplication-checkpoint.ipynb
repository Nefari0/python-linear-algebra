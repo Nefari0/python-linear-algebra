{
 "cells": [
  {
   "cell_type": "code",
   "execution_count": 11,
   "metadata": {},
   "outputs": [],
   "source": [
    "import numpy as np\n",
    "import matplotlib.pyplot as plt"
   ]
  },
  {
   "cell_type": "code",
   "execution_count": 9,
   "metadata": {},
   "outputs": [
    {
     "data": {
      "text/plain": [
       "(14, 14)"
      ]
     },
     "execution_count": 9,
     "metadata": {},
     "output_type": "execute_result"
    }
   ],
   "source": [
    "A = np.random.randn(14,10)\n",
    "B = np.random.randn(14,10)\n",
    "C = np.random.randn(10,14)\n",
    "\n",
    "# 14x10 10x14 is valid\n",
    "np.shape(B@C)"
   ]
  },
  {
   "cell_type": "code",
   "execution_count": 13,
   "metadata": {},
   "outputs": [
    {
     "data": {
      "image/png": "[encoded data removed]",
      "text/plain": [
       "<Figure size 432x288 with 1 Axes>"
      ]
     },
     "metadata": {
      "needs_background": "light"
     },
     "output_type": "display_data"
    },
    {
     "name": "stdout",
     "output_type": "stream",
     "text": [
      "[-1.33333333 -0.33333333  2.66666667 -3.33333333  3.66666667  3.66666667\n",
      " -4.33333333 -2.33333333  1.66666667]\n"
     ]
    }
   ],
   "source": [
    "# references\n",
    "# data\n",
    "\n",
    "var1 = [4,5,8,2,9,9,1,3,7]\n",
    "var2 = [6,7,9,3,9,3,1,6,7]\n",
    "\n",
    "# mean - center\n",
    "v1 = var1 - np.mean(var1)\n",
    "v2 = var2 - np.mean(var2)\n",
    "\n",
    "# compute correlation\n",
    "numer = np.dot(v1,v2)\n",
    "denom = np.sqrt(np.dot(v1,v1)) * np.sqrt(np.dot(v2,v2))\n",
    "\n",
    "r1 = numer/denom\n",
    "r2 = np.corrcoef(v1,v2)[1][0]\n",
    "\n",
    "plt.plot(var1,var2,'ms',label='r=%g' %(np.round(r2,2)))\n",
    "\n",
    "plt.legend()\n",
    "plt.axis([0,10,0,10])\n",
    "plt.xlabel('var1')\n",
    "plt.ylabel('var2')\n",
    "plt.show()\n",
    "\n",
    "print(v1)"
   ]
  },
  {
   "cell_type": "code",
   "execution_count": 49,
   "metadata": {},
   "outputs": [
    {
     "ename": "TypeError",
     "evalue": "object of type 'numpy.float64' has no len()",
     "output_type": "error",
     "traceback": [
      "\u001b[1;31m---------------------------------------------------------------------------\u001b[0m",
      "\u001b[1;31mTypeError\u001b[0m                                 Traceback (most recent call last)",
      "\u001b[1;32m<ipython-input-49-ca6558735251>\u001b[0m in \u001b[0;36m<module>\u001b[1;34m\u001b[0m\n\u001b[0;32m     24\u001b[0m \u001b[1;31m#     for rowi in A[0]\u001b[0m\u001b[1;33m\u001b[0m\u001b[1;33m\u001b[0m\u001b[1;33m\u001b[0m\u001b[0m\n\u001b[0;32m     25\u001b[0m \u001b[1;33m\u001b[0m\u001b[0m\n\u001b[1;32m---> 26\u001b[1;33m \u001b[0mMultiply\u001b[0m\u001b[1;33m(\u001b[0m\u001b[0mA\u001b[0m\u001b[1;33m,\u001b[0m\u001b[0mB\u001b[0m\u001b[1;33m)\u001b[0m\u001b[1;33m\u001b[0m\u001b[1;33m\u001b[0m\u001b[0m\n\u001b[0m\u001b[0;32m     27\u001b[0m \u001b[1;33m\u001b[0m\u001b[0m\n\u001b[0;32m     28\u001b[0m \u001b[1;31m# for rowi in A[0]:\u001b[0m\u001b[1;33m\u001b[0m\u001b[1;33m\u001b[0m\u001b[1;33m\u001b[0m\u001b[0m\n",
      "\u001b[1;32m<ipython-input-49-ca6558735251>\u001b[0m in \u001b[0;36mMultiply\u001b[1;34m(mat1, mat2)\u001b[0m\n\u001b[0;32m     20\u001b[0m     \u001b[1;32mif\u001b[0m \u001b[0mlen\u001b[0m\u001b[1;33m(\u001b[0m\u001b[0mmat1\u001b[0m\u001b[1;33m)\u001b[0m \u001b[1;33m==\u001b[0m \u001b[0mlen\u001b[0m\u001b[1;33m(\u001b[0m\u001b[0mmat2\u001b[0m\u001b[1;33m)\u001b[0m\u001b[1;33m:\u001b[0m\u001b[1;33m\u001b[0m\u001b[1;33m\u001b[0m\u001b[0m\n\u001b[0;32m     21\u001b[0m         \u001b[1;32mfor\u001b[0m \u001b[0mi\u001b[0m \u001b[1;32min\u001b[0m \u001b[0mmat1\u001b[0m\u001b[1;33m:\u001b[0m\u001b[1;33m\u001b[0m\u001b[1;33m\u001b[0m\u001b[0m\n\u001b[1;32m---> 22\u001b[1;33m             \u001b[0mprint\u001b[0m\u001b[1;33m(\u001b[0m\u001b[0mlen\u001b[0m\u001b[1;33m(\u001b[0m\u001b[0mi\u001b[0m\u001b[1;33m[\u001b[0m\u001b[1;36m0\u001b[0m\u001b[1;33m]\u001b[0m\u001b[1;33m)\u001b[0m\u001b[1;33m)\u001b[0m\u001b[1;33m\u001b[0m\u001b[1;33m\u001b[0m\u001b[0m\n\u001b[0m\u001b[0;32m     23\u001b[0m \u001b[1;31m#     print(len(mat1))\u001b[0m\u001b[1;33m\u001b[0m\u001b[1;33m\u001b[0m\u001b[1;33m\u001b[0m\u001b[0m\n\u001b[0;32m     24\u001b[0m \u001b[1;31m#     for rowi in A[0]\u001b[0m\u001b[1;33m\u001b[0m\u001b[1;33m\u001b[0m\u001b[1;33m\u001b[0m\u001b[0m\n",
      "\u001b[1;31mTypeError\u001b[0m: object of type 'numpy.float64' has no len()"
     ]
    }
   ],
   "source": [
    "# exercise independent\n",
    "A = np.random.randn(14,10)\n",
    "B = np.random.randn(14,10)\n",
    "C = np.random.randn(10,14)\n",
    "\n",
    "# func (mat1,mat2):\n",
    "\n",
    "# get lengths of params\n",
    "# row1 and row2 = len(mat1 and mat2)\n",
    "\n",
    "# get length of columns. save in va\n",
    "\n",
    "# for rowi in mat1/mat2:\n",
    "#     for coli in mat1/mat2:\n",
    "#         append(col1/col2)\n",
    "\n",
    "def Multiply(mat1,mat2):\n",
    "    col1_len = []\n",
    "    col2_len = []\n",
    "    if len(mat1) == len(mat2):\n",
    "        for i in mat1:\n",
    "            print(len(i))\n",
    "#     print(len(mat1))\n",
    "#     for rowi in A[0]\n",
    "    \n",
    "Multiply(A,B)\n",
    "\n",
    "# for rowi in A[0]:\n",
    "#     print(rowi)\n",
    "\n",
    "    "
   ]
  }
 ],
 "metadata": {
  "kernelspec": {
   "display_name": "Python 3",
   "language": "python",
   "name": "python3"
  },
  "language_info": {
   "codemirror_mode": {
    "name": "ipython",
    "version": 3
   },
   "file_extension": ".py",
   "mimetype": "text/x-python",
   "name": "python",
   "nbconvert_exporter": "python",
   "pygments_lexer": "ipython3",
   "version": "3.8.5"
  }
 },
 "nbformat": 4,
 "nbformat_minor": 4
}
