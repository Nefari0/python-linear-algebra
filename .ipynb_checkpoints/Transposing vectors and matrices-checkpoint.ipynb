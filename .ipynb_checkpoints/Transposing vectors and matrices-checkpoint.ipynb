{
 "cells": [
  {
   "cell_type": "code",
   "execution_count": 13,
   "metadata": {},
   "outputs": [],
   "source": [
    "import numpy as np\n",
    "import matplotlib.pyplot as plt"
   ]
  },
  {
   "cell_type": "code",
   "execution_count": 9,
   "metadata": {},
   "outputs": [
    {
     "name": "stdout",
     "output_type": "stream",
     "text": [
      "(1, 10)\n",
      "(10, 1)\n",
      "(10, 1)\n",
      "(1, 10)\n"
     ]
    }
   ],
   "source": [
    "r = np.random.rand(1,10)\n",
    "\n",
    "rt1 = np.transpose(r)\n",
    "rt2 = r.T\n",
    "\n",
    "rt1_2 = rt1.T # transpose rt1 again. returns original shape\n",
    "\n",
    "print(np.shape(r))\n",
    "print(np.shape(rt1))\n",
    "print(np.shape(rt2))\n",
    "print(np.shape(rt1_2))"
   ]
  },
  {
   "cell_type": "code",
   "execution_count": 23,
   "metadata": {},
   "outputs": [
    {
     "data": {
      "image/png": "[encoded data removed]",
      "text/plain": [
       "<Figure size 432x288 with 2 Axes>"
      ]
     },
     "metadata": {},
     "output_type": "display_data"
    }
   ],
   "source": [
    "mat = np.random.randn(8,4)\n",
    "matT = mat.T\n",
    "\n",
    "fig,ax = plt.subplots(1,2)\n",
    "\n",
    "ax[0].imshow(mat)\n",
    "ax[0].set_title('M')\n",
    "\n",
    "ax[1].imshow(matT)\n",
    "ax[1].set_title('M$^T$')\n",
    "\n",
    "# remove all x and y ticks from all images displayed\n",
    "for i in ax:\n",
    "    i.set_xticks([])\n",
    "    i.set_yticks([])\n",
    "\n",
    "plt.show()"
   ]
  },
  {
   "cell_type": "code",
   "execution_count": null,
   "metadata": {},
   "outputs": [],
   "source": [
    "definition of symetric matrix: A = A^T\n",
    "\n",
    " 1,-1,0\n",
    "-1,-2,-4\n",
    " 0,-4,5"
   ]
  },
  {
   "cell_type": "code",
   "execution_count": 30,
   "metadata": {},
   "outputs": [
    {
     "data": {
      "text/plain": [
       "<matplotlib.image.AxesImage at 0x7b30418>"
      ]
     },
     "execution_count": 30,
     "metadata": {},
     "output_type": "execute_result"
    },
    {
     "data": {
      "image/png": "[encoded data removed]",
      "text/plain": [
       "<Figure size 432x288 with 1 Axes>"
      ]
     },
     "metadata": {
      "needs_background": "light"
     },
     "output_type": "display_data"
    }
   ],
   "source": [
    "# prototyping experiment proves that square and non-square matrix times its\n",
    "# transpose is square and symetric\n",
    "\n",
    "mat = np.random.randn(8,4)\n",
    "matT = mat.T\n",
    "\n",
    "mat_symetry = mat@matT\n",
    "plt.imshow(mat_symetry)"
   ]
  },
  {
   "cell_type": "code",
   "execution_count": 45,
   "metadata": {},
   "outputs": [
    {
     "name": "stdout",
     "output_type": "stream",
     "text": [
      "(14, 14)\n"
     ]
    },
    {
     "data": {
      "text/plain": [
       "<matplotlib.image.AxesImage at 0x7bea4a8>"
      ]
     },
     "execution_count": 45,
     "metadata": {},
     "output_type": "execute_result"
    },
    {
     "data": {
      "image/png": "[encoded data removed]",
      "text/plain": [
       "<Figure size 432x288 with 1 Axes>"
      ]
     },
     "metadata": {
      "needs_background": "light"
     },
     "output_type": "display_data"
    }
   ],
   "source": [
    "m = 14\n",
    "n = 19\n",
    "\n",
    "amat = np.random.randn(m,n)\n",
    "\n",
    "amatama = amat@amat.T\n",
    "\n",
    "print(np.shape(amatama))\n",
    "\n",
    "# show symetry\n",
    "\n",
    "plt.imshow(amatama - amatama)\n",
    "# print(amatama - amatama.T)"
   ]
  }
 ],
 "metadata": {
  "kernelspec": {
   "display_name": "Python 3",
   "language": "python",
   "name": "python3"
  },
  "language_info": {
   "codemirror_mode": {
    "name": "ipython",
    "version": 3
   },
   "file_extension": ".py",
   "mimetype": "text/x-python",
   "name": "python",
   "nbconvert_exporter": "python",
   "pygments_lexer": "ipython3",
   "version": "3.8.5"
  }
 },
 "nbformat": 4,
 "nbformat_minor": 4
}
