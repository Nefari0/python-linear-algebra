{
 "cells": [
  {
   "cell_type": "code",
   "execution_count": 222,
   "metadata": {},
   "outputs": [],
   "source": [
    "import numpy as np\n",
    "import matplotlib.pyplot as plt\n",
    "from scipy.linalg import toeplitz"
   ]
  },
  {
   "cell_type": "markdown",
   "metadata": {},
   "source": [
    "##### Identity matrix contains all zeros except diagonal which contains all ones\n",
    "##### ... indicates many rows or columns\n",
    "\n",
    "##### Usually indicated as : I . subscript indicates number or rows and columns\n",
    "    \n",
    "-----------\n",
    "\n",
    "##### Zeros matrix is all zeros\n",
    "\n",
    "-----------\n",
    "\n",
    "##### Diagonal matrix is all zeros except diagonal\n",
    "\n",
    "##### Can alls be non-square"
   ]
  },
  {
   "cell_type": "code",
   "execution_count": 4,
   "metadata": {},
   "outputs": [
    {
     "name": "stdout",
     "output_type": "stream",
     "text": [
      "[[1. 0. 0. 0.]\n",
      " [0. 1. 0. 0.]\n",
      " [0. 0. 1. 0.]\n",
      " [0. 0. 0. 1.]]\n"
     ]
    }
   ],
   "source": [
    "#  identity matrix\n",
    "\n",
    "I = np.eye(4)\n",
    "\n",
    "print(I)"
   ]
  },
  {
   "cell_type": "code",
   "execution_count": 6,
   "metadata": {},
   "outputs": [
    {
     "name": "stdout",
     "output_type": "stream",
     "text": [
      "[[0. 0. 0. 0.]\n",
      " [0. 0. 0. 0.]\n",
      " [0. 0. 0. 0.]\n",
      " [0. 0. 0. 0.]]\n"
     ]
    }
   ],
   "source": [
    "# zeros matrix\n",
    "\n",
    "Z = np.zeros((4,4))\n",
    "\n",
    "print(Z)"
   ]
  },
  {
   "cell_type": "code",
   "execution_count": 10,
   "metadata": {},
   "outputs": [
    {
     "name": "stdout",
     "output_type": "stream",
     "text": [
      "[[1 0 0 0 0]\n",
      " [0 4 0 0 0]\n",
      " [0 0 6 0 0]\n",
      " [0 0 0 3 0]\n",
      " [0 0 0 0 0]]\n",
      "[ 0.4843797  -0.50215821 -0.11458829  0.39597278 -0.05212183 -0.17499978]\n"
     ]
    }
   ],
   "source": [
    "# diagonal matrix\n",
    "\n",
    "D = np.diag([1,4,6,3,0])\n",
    "\n",
    "print(D)\n",
    "\n",
    "d = np.diagonal(np.random.randn(6,6))\n",
    "\n",
    "print(d)"
   ]
  },
  {
   "cell_type": "code",
   "execution_count": 17,
   "metadata": {},
   "outputs": [
    {
     "data": {
      "text/plain": [
       "<matplotlib.image.AxesImage at 0x14f5070>"
      ]
     },
     "execution_count": 17,
     "metadata": {},
     "output_type": "execute_result"
    },
    {
     "data": {
      "image/png": "[encoded data removed]",
      "text/plain": [
       "<Figure size 432x288 with 1 Axes>"
      ]
     },
     "metadata": {
      "needs_background": "light"
     },
     "output_type": "display_data"
    }
   ],
   "source": [
    "# triangular matrix\n",
    "\n",
    "T = np.random.randn(15,15)\n",
    "\n",
    "t = np.tril(T)\n",
    "# np.tril is lower triangle\n",
    "# np.triu is upper triangle\n",
    "\n",
    "plt.imshow(t)"
   ]
  },
  {
   "cell_type": "code",
   "execution_count": 220,
   "metadata": {},
   "outputs": [
    {
     "data": {
      "text/plain": [
       "<matplotlib.image.AxesImage at 0x807b0a0>"
      ]
     },
     "execution_count": 220,
     "metadata": {},
     "output_type": "execute_result"
    },
    {
     "data": {
      "image/png": "[encoded data removed]",
      "text/plain": [
       "<Figure size 432x288 with 1 Axes>"
      ]
     },
     "metadata": {
      "needs_background": "light"
     },
     "output_type": "display_data"
    }
   ],
   "source": [
    "# create 4x4 matri of random numbers between -4 and 4\n",
    "\n",
    "MAT = np.random.randint(-4,4,size=(4,4))\n",
    "# plt.imshow(MAT)\n",
    "\n",
    "# multiply by identity matrix of appropriate size\n",
    "I = np.eye(len(MAT))\n",
    "MAT_I = MAT@I\n",
    "\n",
    "# multiply by upper triangular matrix\n",
    "T = np.random.randn(len(MAT),len(MAT))\n",
    "t = np.triu(T)\n",
    "MAT_I_t = MAT_I@T\n",
    "\n",
    "plt.imshow(MAT_I_t)"
   ]
  },
  {
   "cell_type": "code",
   "execution_count": 240,
   "metadata": {},
   "outputs": [
    {
     "name": "stdout",
     "output_type": "stream",
     "text": [
      "[[ 2 -4 -1 -4]\n",
      " [ 2  2 -1  4]\n",
      " [-2 -4  0  0]\n",
      " [-1  0 -3 -4]]\n",
      "\n",
      "\n",
      "[[ 2. -4. -1. -4.]\n",
      " [ 2.  2. -1.  4.]\n",
      " [-2. -4.  0.  0.]\n",
      " [-1.  0. -3. -4.]]\n",
      "\n",
      "\n",
      "[[ -5.13831973   0.46871426 -12.74659696 -14.69067787]\n",
      " [ -5.13831973   4.57956324   3.4861705    5.96051305]\n",
      " [  5.13831973  -5.94984623 -10.06457358  -5.93155549]\n",
      " [  2.56915986  -1.60464012  -3.12380606 -12.54141088]]\n"
     ]
    }
   ],
   "source": [
    "intmat = np.random.randint(-4,5,(4,4))\n",
    "I4 = np.eye(4)\n",
    "upper4 = np.triu(np.random.randn(4,4))\n",
    "\n",
    "print(intmat)\n",
    "print('\\n') # new line char\n",
    "print((intmat@I4))\n",
    "print('\\n')\n",
    "print(intmat@upper4)"
   ]
  },
  {
   "cell_type": "code",
   "execution_count": 248,
   "metadata": {},
   "outputs": [
    {
     "data": {
      "text/plain": [
       "<matplotlib.image.AxesImage at 0x84e7160>"
      ]
     },
     "execution_count": 248,
     "metadata": {},
     "output_type": "execute_result"
    },
    {
     "data": {
      "image/png": "[encoded data removed]",
      "text/plain": [
       "<Figure size 432x288 with 1 Axes>"
      ]
     },
     "metadata": {
      "needs_background": "light"
     },
     "output_type": "display_data"
    }
   ],
   "source": [
    "# Toeplitz Matrix\n",
    "\n",
    "toeplitz_mat = toeplitz(np.arange(1,6))\n",
    "# display(toeplitz_mat)\n",
    "plt.imshow(toeplitz_mat)"
   ]
  },
  {
   "cell_type": "code",
   "execution_count": null,
   "metadata": {},
   "outputs": [],
   "source": []
  }
 ],
 "metadata": {
  "kernelspec": {
   "display_name": "Python 3",
   "language": "python",
   "name": "python3"
  },
  "language_info": {
   "codemirror_mode": {
    "name": "ipython",
    "version": 3
   },
   "file_extension": ".py",
   "mimetype": "text/x-python",
   "name": "python",
   "nbconvert_exporter": "python",
   "pygments_lexer": "ipython3",
   "version": "3.8.5"
  }
 },
 "nbformat": 4,
 "nbformat_minor": 4
}
