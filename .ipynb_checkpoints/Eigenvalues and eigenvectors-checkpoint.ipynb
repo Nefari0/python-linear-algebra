{
 "cells": [
  {
   "cell_type": "code",
   "execution_count": 51,
   "metadata": {},
   "outputs": [],
   "source": [
    "import numpy as np\n",
    "import matplotlib.pyplot as plt\n",
    "import math as math"
   ]
  },
  {
   "cell_type": "markdown",
   "metadata": {},
   "source": [
    "### Geometric interpretation of Eigenvectors/values Lv = Av"
   ]
  },
  {
   "cell_type": "code",
   "execution_count": 19,
   "metadata": {},
   "outputs": [],
   "source": [
    "M = np.random.randint(-5,6,(5,5))\n",
    "M = M@M.T # multiply M by it's transpose"
   ]
  },
  {
   "cell_type": "code",
   "execution_count": 72,
   "metadata": {},
   "outputs": [
    {
     "data": {
      "image/png": "[encoded data removed]",
      "text/plain": [
       "<Figure size 432x288 with 3 Axes>"
      ]
     },
     "metadata": {
      "needs_background": "light"
     },
     "output_type": "display_data"
    }
   ],
   "source": [
    "eigvals,eigvecs = np.linalg.eig(M)\n",
    "\n",
    "fig,ax = plt.subplots(1,3)\n",
    "\n",
    "ax[0].imshow(M)\n",
    "ax[0].set_title('The Matrix')\n",
    "\n",
    "ax[1].imshow(np.diag(eigvals))\n",
    "ax[1].set_title('Eigenvalues')\n",
    "\n",
    "ax[2].imshow(eigvecs)\n",
    "ax[2].set_title('Eigenvectors')\n",
    "\n",
    "plt.show()"
   ]
  },
  {
   "cell_type": "markdown",
   "metadata": {},
   "source": [
    "### Algebraic definition of Eigen Decomposition"
   ]
  },
  {
   "cell_type": "code",
   "execution_count": 35,
   "metadata": {},
   "outputs": [
    {
     "name": "stdout",
     "output_type": "stream",
     "text": [
      "[-38.81660109  37.91886412  57.93698714 -39.47093545 -33.38387996]\n",
      "[-38.81660109  37.91886412  57.93698714 -39.47093545 -33.38387996]\n"
     ]
    }
   ],
   "source": [
    "Mv = M@eigvecs[:,0]\n",
    "lv = eigvals[0]*eigvecs[:,0]\n",
    "print(Mv)\n",
    "print(lv)"
   ]
  },
  {
   "cell_type": "code",
   "execution_count": null,
   "metadata": {},
   "outputs": [],
   "source": []
  },
  {
   "cell_type": "markdown",
   "metadata": {},
   "source": [
    "### Apply Eigenvalues"
   ]
  },
  {
   "cell_type": "code",
   "execution_count": 4,
   "metadata": {},
   "outputs": [
    {
     "data": {
      "text/plain": [
       "array([[ 46, -12,  14, -17,   0],\n",
       "       [-12,  38, -15,  12, -17],\n",
       "       [ 14, -15,  44, -22,  -7],\n",
       "       [-17,  12, -22,  27,  19],\n",
       "       [  0, -17,  -7,  19,  54]])"
      ]
     },
     "execution_count": 4,
     "metadata": {},
     "output_type": "execute_result"
    }
   ],
   "source": [
    "# exercise\n",
    "# M = np.random.randint()\n",
    "M"
   ]
  }
 ],
 "metadata": {
  "kernelspec": {
   "display_name": "Python 3",
   "language": "python",
   "name": "python3"
  },
  "language_info": {
   "codemirror_mode": {
    "name": "ipython",
    "version": 3
   },
   "file_extension": ".py",
   "mimetype": "text/x-python",
   "name": "python",
   "nbconvert_exporter": "python",
   "pygments_lexer": "ipython3",
   "version": "3.8.5"
  }
 },
 "nbformat": 4,
 "nbformat_minor": 4
}
