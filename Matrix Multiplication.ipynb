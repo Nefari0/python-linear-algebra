{
 "cells": [
  {
   "cell_type": "code",
   "execution_count": 2,
   "metadata": {},
   "outputs": [],
   "source": [
    "import numpy as np\n",
    "import matplotlib.pyplot as plt"
   ]
  },
  {
   "cell_type": "code",
   "execution_count": 9,
   "metadata": {},
   "outputs": [
    {
     "data": {
      "text/plain": [
       "(14, 14)"
      ]
     },
     "execution_count": 9,
     "metadata": {},
     "output_type": "execute_result"
    }
   ],
   "source": [
    "A = np.random.randn(14,10)\n",
    "B = np.random.randn(14,10)\n",
    "C = np.random.randn(10,14)\n",
    "\n",
    "# 14x10 10x14 is valid\n",
    "np.shape(B@C)"
   ]
  },
  {
   "cell_type": "code",
   "execution_count": 13,
   "metadata": {},
   "outputs": [
    {
     "data": {
      "image/png": "[encoded data removed]",
      "text/plain": [
       "<Figure size 432x288 with 1 Axes>"
      ]
     },
     "metadata": {
      "needs_background": "light"
     },
     "output_type": "display_data"
    },
    {
     "name": "stdout",
     "output_type": "stream",
     "text": [
      "[-1.33333333 -0.33333333  2.66666667 -3.33333333  3.66666667  3.66666667\n",
      " -4.33333333 -2.33333333  1.66666667]\n"
     ]
    }
   ],
   "source": [
    "# references\n",
    "# data\n",
    "\n",
    "var1 = [4,5,8,2,9,9,1,3,7]\n",
    "var2 = [6,7,9,3,9,3,1,6,7]\n",
    "\n",
    "# mean - center\n",
    "v1 = var1 - np.mean(var1)\n",
    "v2 = var2 - np.mean(var2)\n",
    "\n",
    "# compute correlation\n",
    "numer = np.dot(v1,v2)\n",
    "denom = np.sqrt(np.dot(v1,v1)) * np.sqrt(np.dot(v2,v2))\n",
    "\n",
    "r1 = numer/denom\n",
    "r2 = np.corrcoef(v1,v2)[1][0]\n",
    "\n",
    "plt.plot(var1,var2,'ms',label='r=%g' %(np.round(r2,2)))\n",
    "\n",
    "plt.legend()\n",
    "plt.axis([0,10,0,10])\n",
    "plt.xlabel('var1')\n",
    "plt.ylabel('var2')\n",
    "plt.show()\n",
    "\n",
    "print(v1)"
   ]
  },
  {
   "cell_type": "code",
   "execution_count": 142,
   "metadata": {},
   "outputs": [
    {
     "name": "stdout",
     "output_type": "stream",
     "text": [
      "is aqual\n"
     ]
    },
    {
     "data": {
      "text/plain": [
       "array([[0.1408912 , 0.0389432 ],\n",
       "       [0.67484505, 0.33313508],\n",
       "       [0.69180164, 0.94386309],\n",
       "       [0.66631449, 0.72718038]])"
      ]
     },
     "execution_count": 142,
     "metadata": {},
     "output_type": "execute_result"
    }
   ],
   "source": [
    "# experimental\n",
    "A = np.random.randn(14,10)\n",
    "B = np.random.randn(14,10)\n",
    "C = np.random.randn(10,14)\n",
    "two_by_two = np.random.rand(2,2)\n",
    "\n",
    "\n",
    "\n",
    "# get lengths of params\n",
    "# row1 and row2 = len(mat1 and mat2)\n",
    "\n",
    "# get length of columns. save in va\n",
    "\n",
    "# for rowi in mat1/mat2:\n",
    "#     for coli in mat1/mat2:\n",
    "#         append(col1/col2)\n",
    "\n",
    "def Multiply(mat1,mat2):\n",
    "    mat1_row = len(mat1)\n",
    "    mat2_col = len(mat2[0])\n",
    "    if mat1_row == mat2_col:\n",
    "        print('is aqual')\n",
    "#         multipy rows in mat1 with cols mat2\n",
    "\n",
    "#         multiply cols in mat1 with rows in mat2\n",
    "\n",
    "#     return error if not valid multiplication\n",
    "    else:\n",
    "        print('is not')\n",
    "        \n",
    "#         for i in mat1:\n",
    "#             print(len(i))\n",
    "#     print(len(mat1))\n",
    "#     for rowi in A[0]\n",
    "    \n",
    "Multiply(B,C)\n",
    "\n",
    "len_mat1 = len(A)\n",
    "len_mat2 = len(A[0])\n",
    "enum = list(enumerate(A))\n",
    "# print(two_by_two)\n",
    "# print('col',two_by_two[:,0] * A[:,1])\n",
    "\n",
    "\n",
    "a\n",
    "# print(\"Third column:\")"
   ]
  },
  {
   "cell_type": "code",
   "execution_count": 173,
   "metadata": {},
   "outputs": [],
   "source": [
    "#  Matrix Multiplication\n",
    "\n",
    "def matrixMultiplication(A,B):\n",
    "    \n",
    "#     get matrix sizes\n",
    "    szA = np.shape(A)\n",
    "    szB = np.shape(B)\n",
    "    \n",
    "#     check sizes / give error if not valid\n",
    "    if szA[1] != szB[0]:\n",
    "        raise ValueError('\"Inner\" demensions don\\'t match')\n",
    "        \n",
    "#     initialize\n",
    "    C = np.zeros((szA[0],szB[1]))\n",
    "    \n",
    "#     compute\n",
    "    for rowi in range(szA[0]):\n",
    "        for coli in range(szB[1]):\n",
    "            C[rowi,coli] = np.dot( A[rowi,:],B[:,coli])\n",
    "            \n",
    "    return C"
   ]
  },
  {
   "cell_type": "code",
   "execution_count": 178,
   "metadata": {},
   "outputs": [
    {
     "name": "stdout",
     "output_type": "stream",
     "text": [
      "[[ 1.11603108  0.75914435  2.4321744   1.84997948]\n",
      " [-1.23303725 -0.27426239 -2.1983599  -2.13518522]\n",
      " [-1.83201926 -1.92187511 -1.81590124 -3.22252581]\n",
      " [-1.85460558 -1.26111799 -0.14879301 -0.94696093]]\n",
      "[[0. 0. 0. 0.]\n",
      " [0. 0. 0. 0.]\n",
      " [0. 0. 0. 0.]\n",
      " [0. 0. 0. 0.]]\n"
     ]
    }
   ],
   "source": [
    "# execute matrixMultiplication\n",
    "A = np.random.randn(4,6)\n",
    "B = np.random.rand(6,4)\n",
    "\n",
    "C1 = matrixMultiplication(A,B)\n",
    "C2 = A@B\n",
    "\n",
    "print(C1)\n",
    "print(C1 - C2)"
   ]
  }
 ],
 "metadata": {
  "kernelspec": {
   "display_name": "Python 3",
   "language": "python",
   "name": "python3"
  },
  "language_info": {
   "codemirror_mode": {
    "name": "ipython",
    "version": 3
   },
   "file_extension": ".py",
   "mimetype": "text/x-python",
   "name": "python",
   "nbconvert_exporter": "python",
   "pygments_lexer": "ipython3",
   "version": "3.8.5"
  }
 },
 "nbformat": 4,
 "nbformat_minor": 4
}
