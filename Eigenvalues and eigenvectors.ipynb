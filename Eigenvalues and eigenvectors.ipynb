{
 "cells": [
  {
   "cell_type": "code",
   "execution_count": 154,
   "metadata": {},
   "outputs": [],
   "source": [
    "import numpy as np\n",
    "import matplotlib.pyplot as plt\n",
    "import math as math\n",
    "from IPython.display import display, Math"
   ]
  },
  {
   "cell_type": "markdown",
   "metadata": {},
   "source": [
    "### Geometric interpretation of Eigenvectors/values Lv = Av"
   ]
  },
  {
   "cell_type": "code",
   "execution_count": 118,
   "metadata": {},
   "outputs": [],
   "source": [
    "M = np.random.randint(-5,6,(5,5))\n",
    "M = M@M.T # multiply M by it's transpose"
   ]
  },
  {
   "cell_type": "code",
   "execution_count": 119,
   "metadata": {},
   "outputs": [
    {
     "data": {
      "image/png": "[encoded data removed]",
      "text/plain": [
       "<Figure size 432x288 with 3 Axes>"
      ]
     },
     "metadata": {
      "needs_background": "light"
     },
     "output_type": "display_data"
    }
   ],
   "source": [
    "eigvals,eigvecs = np.linalg.eig(M)\n",
    "\n",
    "fig,ax = plt.subplots(1,3)\n",
    "\n",
    "# Matrix\n",
    "ax[0].imshow(M)\n",
    "ax[0].set_title('The Matrix')\n",
    "\n",
    "# Eigenvalues\n",
    "ax[1].imshow(np.diag(eigvals))\n",
    "ax[1].set_title('Eigenvalues')\n",
    "\n",
    "# Eigenvectors\n",
    "ax[2].imshow(eigvecs)\n",
    "ax[2].set_title('Eigenvectors')\n",
    "\n",
    "plt.show()"
   ]
  },
  {
   "cell_type": "markdown",
   "metadata": {},
   "source": [
    "### Algebraic definition of Eigen Decomposition"
   ]
  },
  {
   "cell_type": "code",
   "execution_count": 120,
   "metadata": {},
   "outputs": [
    {
     "name": "stdout",
     "output_type": "stream",
     "text": [
      "[-102.76113882  -53.3284214    40.11257188  -44.87619751  -46.46448207]\n",
      "[-102.76113882  -53.3284214    40.11257188  -44.87619751  -46.46448207]\n"
     ]
    }
   ],
   "source": [
    "Mv = M@eigvecs[:,0]\n",
    "lv = eigvals[0]*eigvecs[:,0]\n",
    "print(Mv)\n",
    "print(lv)"
   ]
  },
  {
   "cell_type": "code",
   "execution_count": null,
   "metadata": {},
   "outputs": [],
   "source": []
  },
  {
   "cell_type": "markdown",
   "metadata": {},
   "source": [
    "### Apply Eigenvalues"
   ]
  },
  {
   "cell_type": "code",
   "execution_count": 163,
   "metadata": {},
   "outputs": [
    {
     "data": {
      "image/png": "[encoded data removed]",
      "text/plain": [
       "<Figure size 432x288 with 2 Axes>"
      ]
     },
     "metadata": {
      "needs_background": "light"
     },
     "output_type": "display_data"
    }
   ],
   "source": [
    "# Matrix\n",
    "M1 = np.array([[1,2],[2,1]])\n",
    "# M1 = M1@M1.T\n",
    "M1_eigvals,M1_eigvecs = np.linalg.eig(M1)\n",
    "\n",
    "fig,ax = plt.subplots(1,2)\n",
    "\n",
    "ax[0].imshow(M1_eigvecs)\n",
    "ax[0].set_title('Eigenvectors')\n",
    "\n",
    "ax[1].imshow(np.diag(M1_eigvals))\n",
    "ax[1].set_title('Eigenvectors')\n",
    "\n",
    "plt.show()"
   ]
  },
  {
   "cell_type": "code",
   "execution_count": 178,
   "metadata": {},
   "outputs": [
    {
     "data": {
      "image/png": "[encoded data removed]",
      "text/plain": [
       "<Figure size 432x288 with 1 Axes>"
      ]
     },
     "metadata": {
      "needs_background": "light"
     },
     "output_type": "display_data"
    }
   ],
   "source": [
    "# Vector\n",
    "M1 = np.array([ [1,2],[2,1] ])\n",
    "d,V = np.linalg.eig(M1)\n",
    "\n",
    "lv = d[0]*V[:,0]\n",
    "M1v = M1@V[:,0]\n",
    "\n",
    "plt.plot([0,lv[0]],[0,lv[1]],'b',label='$\\\\lambda v$',linewidth=4)\n",
    "plt.plot([0,M1v[0]],[0,M1v[1]],'r--',label='$\\\\lambda Mv$',linewidth=4)\n",
    "\n",
    "plt.axis('square')\n",
    "plt.axis([-3,3,-3,3])\n",
    "plt.legend()\n",
    "plt.grid()\n",
    "plt.show()"
   ]
  },
  {
   "cell_type": "markdown",
   "metadata": {},
   "source": [
    "### Eigenvector Dot Product"
   ]
  },
  {
   "cell_type": "code",
   "execution_count": 149,
   "metadata": {},
   "outputs": [],
   "source": [
    "# dot product function\n",
    "def dotProduct(v,w):\n",
    "    \n",
    "    w = np.squeeze(w)\n",
    "    v = np.squeeze(v)\n",
    "    \n",
    "#     test whether ti product is defined \n",
    "    if len(v)!= len(w):\n",
    "        raise ValueError('Vectors must have the same length!!')\n",
    "      # compute and display the dot product  \n",
    "    display(Math('v^Tw = %s' %np.dot(v,w)))"
   ]
  },
  {
   "cell_type": "code",
   "execution_count": 192,
   "metadata": {},
   "outputs": [
    {
     "name": "stdout",
     "output_type": "stream",
     "text": [
      "[[ 1. -0.  0.  0. -0.  0.]\n",
      " [-0.  1. -0.  0. -0.  0.]\n",
      " [ 0. -0.  1. -0.  0. -0.]\n",
      " [ 0.  0. -0.  1.  0.  0.]\n",
      " [-0. -0.  0.  0.  1.  0.]\n",
      " [ 0.  0. -0.  0.  0.  1.]]\n"
     ]
    },
    {
     "data": {
      "text/plain": [
       "<matplotlib.image.AxesImage at 0x815e9e8>"
      ]
     },
     "execution_count": 192,
     "metadata": {},
     "output_type": "execute_result"
    },
    {
     "data": {
      "image/png": "[encoded data removed]",
      "text/plain": [
       "<Figure size 432x288 with 1 Axes>"
      ]
     },
     "metadata": {
      "needs_background": "light"
     },
     "output_type": "display_data"
    }
   ],
   "source": [
    "m = 6\n",
    "Q = np.random.randn(m,m)\n",
    "Q = Q@Q.T # multiply by transpose for symetry\n",
    "\n",
    "d,V = np.linalg.eig(Q)\n",
    "\n",
    "dps = np.zeros((m,m))\n",
    "\n",
    "# in V eigenvectors are in collumns\n",
    "# compute dot product between eigenvector pairs\n",
    "for i in range(m):\n",
    "    for j in range(0,m):\n",
    "        dps[i,j] = np.round(np.dot(V[:,i],V[:,j]))\n",
    "        \n",
    "print(dps)\n",
    "plt.imshow(dps)"
   ]
  }
 ],
 "metadata": {
  "kernelspec": {
   "display_name": "Python 3",
   "language": "python",
   "name": "python3"
  },
  "language_info": {
   "codemirror_mode": {
    "name": "ipython",
    "version": 3
   },
   "file_extension": ".py",
   "mimetype": "text/x-python",
   "name": "python",
   "nbconvert_exporter": "python",
   "pygments_lexer": "ipython3",
   "version": "3.8.8"
  }
 },
 "nbformat": 4,
 "nbformat_minor": 4
}
