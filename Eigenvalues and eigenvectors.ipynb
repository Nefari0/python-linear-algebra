{
 "cells": [
  {
   "cell_type": "code",
   "execution_count": 154,
   "metadata": {},
   "outputs": [],
   "source": [
    "import numpy as np\n",
    "import matplotlib.pyplot as plt\n",
    "import math as math\n",
    "from IPython.display import display, Math"
   ]
  },
  {
   "cell_type": "markdown",
   "metadata": {},
   "source": [
    "### Geometric interpretation of Eigenvectors/values Lv = Av"
   ]
  },
  {
   "cell_type": "code",
   "execution_count": 118,
   "metadata": {},
   "outputs": [],
   "source": [
    "M = np.random.randint(-5,6,(5,5))\n",
    "M = M@M.T # multiply M by it's transpose"
   ]
  },
  {
   "cell_type": "code",
   "execution_count": 119,
   "metadata": {},
   "outputs": [
    {
     "data": {
      "image/png": "[encoded data removed]",
      "text/plain": [
       "<Figure size 432x288 with 3 Axes>"
      ]
     },
     "metadata": {
      "needs_background": "light"
     },
     "output_type": "display_data"
    }
   ],
   "source": [
    "eigvals,eigvecs = np.linalg.eig(M)\n",
    "\n",
    "fig,ax = plt.subplots(1,3)\n",
    "\n",
    "# Matrix\n",
    "ax[0].imshow(M)\n",
    "ax[0].set_title('The Matrix')\n",
    "\n",
    "# Eigenvalues\n",
    "ax[1].imshow(np.diag(eigvals))\n",
    "ax[1].set_title('Eigenvalues')\n",
    "\n",
    "# Eigenvectors\n",
    "ax[2].imshow(eigvecs)\n",
    "ax[2].set_title('Eigenvectors')\n",
    "\n",
    "plt.show()"
   ]
  },
  {
   "cell_type": "markdown",
   "metadata": {},
   "source": [
    "### Algebraic definition of Eigen Decomposition"
   ]
  },
  {
   "cell_type": "code",
   "execution_count": 120,
   "metadata": {},
   "outputs": [
    {
     "name": "stdout",
     "output_type": "stream",
     "text": [
      "[-102.76113882  -53.3284214    40.11257188  -44.87619751  -46.46448207]\n",
      "[-102.76113882  -53.3284214    40.11257188  -44.87619751  -46.46448207]\n"
     ]
    }
   ],
   "source": [
    "Mv = M@eigvecs[:,0]\n",
    "lv = eigvals[0]*eigvecs[:,0]\n",
    "print(Mv)\n",
    "print(lv)"
   ]
  },
  {
   "cell_type": "code",
   "execution_count": null,
   "metadata": {},
   "outputs": [],
   "source": []
  },
  {
   "cell_type": "markdown",
   "metadata": {},
   "source": [
    "### Apply Eigenvalues"
   ]
  },
  {
   "cell_type": "code",
   "execution_count": 144,
   "metadata": {},
   "outputs": [
    {
     "data": {
      "text/plain": [
       "Text(0.5, 1.0, 'Eigenvectors')"
      ]
     },
     "execution_count": 144,
     "metadata": {},
     "output_type": "execute_result"
    },
    {
     "data": {
      "image/png": "[encoded data removed]",
      "text/plain": [
       "<Figure size 432x288 with 2 Axes>"
      ]
     },
     "metadata": {
      "needs_background": "light"
     },
     "output_type": "display_data"
    }
   ],
   "source": [
    "# exercise\n",
    "M1 = np.array([[1,2],[2,1]])\n",
    "# M1 = M1@M1.T\n",
    "M1_eigvals,M1_eigvecs = np.linalg.eig(M1)\n",
    "\n",
    "fig,ax = plt.subplots(1,2)\n",
    "\n",
    "ax[0].imshow(M1_eigvecs)\n",
    "ax[0].set_title('Eigenvectors')\n",
    "\n",
    "ax[1].imshow(np.diag(M1_eigvals))\n",
    "ax[1].set_title('Eigenvectors')\n",
    "\n",
    "# plt.imshow(M1_eigvecs)\n",
    "# plt.imshow(np.diag(M1_eigvals))"
   ]
  },
  {
   "cell_type": "code",
   "execution_count": 160,
   "metadata": {},
   "outputs": [
    {
     "name": "stdout",
     "output_type": "stream",
     "text": [
      "[ 3. -1.]\n"
     ]
    }
   ],
   "source": [
    "# exercise instructed\n",
    "M1 = np.array([ [1,2],[2,1] ])\n",
    "d,V = np.linalg.eig(M1)\n",
    "\n",
    "lv = d[]"
   ]
  },
  {
   "cell_type": "markdown",
   "metadata": {},
   "source": [
    "### Eigenvector Dot Product"
   ]
  },
  {
   "cell_type": "code",
   "execution_count": 149,
   "metadata": {},
   "outputs": [],
   "source": [
    "# dot product function\n",
    "def dotProduct(v,w):\n",
    "    \n",
    "    w = np.squeeze(w)\n",
    "    v = np.squeeze(v)\n",
    "    \n",
    "#     test whether ti product is defined \n",
    "    if len(v)!= len(w):\n",
    "        raise ValueError('Vectors must have the same length!!')\n",
    "      # compute and display the dot product  \n",
    "    display(Math('v^Tw = %s' %np.dot(v,w)))"
   ]
  },
  {
   "cell_type": "code",
   "execution_count": 155,
   "metadata": {},
   "outputs": [
    {
     "data": {
      "text/latex": [
       "$\\displaystyle v^Tw = [-4.84026874+4.39713727j  0.02517738+3.45564075j -2.1323908 +0.11286602j\n",
       "  1.17985855-4.9474032j   4.76679964-2.60148974j  3.59599101+0.60950436j]$"
      ],
      "text/plain": [
       "<IPython.core.display.Math object>"
      ]
     },
     "metadata": {},
     "output_type": "display_data"
    }
   ],
   "source": [
    "# prototyping\n",
    "M2 = np.random.randint(-5,6,(6,6))\n",
    "M2_eigvecs = np.linalg.eig(M2)\n",
    "dotProduct(M2_eigvecs[0],M2_eigvecs[1])"
   ]
  }
 ],
 "metadata": {
  "kernelspec": {
   "display_name": "Python 3",
   "language": "python",
   "name": "python3"
  },
  "language_info": {
   "codemirror_mode": {
    "name": "ipython",
    "version": 3
   },
   "file_extension": ".py",
   "mimetype": "text/x-python",
   "name": "python",
   "nbconvert_exporter": "python",
   "pygments_lexer": "ipython3",
   "version": "3.8.5"
  }
 },
 "nbformat": 4,
 "nbformat_minor": 4
}
