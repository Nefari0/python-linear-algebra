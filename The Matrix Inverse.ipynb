{
 "cells": [
  {
   "cell_type": "code",
   "execution_count": 2,
   "metadata": {},
   "outputs": [],
   "source": [
    "import numpy as np\n",
    "import matplotlib.pyplot as plt\n",
    "import sympy as sym"
   ]
  },
  {
   "cell_type": "code",
   "execution_count": 12,
   "metadata": {},
   "outputs": [],
   "source": [
    "# conventional technique used to solve for x: 3x = 1\n",
    "# use of scalar inverse: 3^(-1)3x = 3^(-1)1\n",
    "\n",
    "# 3^-1 is the inverse of 3\n",
    "\n",
    "# application in linear algebra:\n",
    "# Ax = b\n",
    "\n",
    "# (A^-1)*(Ax) = (A^-1) * (b)\n",
    "\n",
    "# since (A^-1) * (A) results in the identity matrix:\n",
    "# Ix = A^-1 * b\n",
    "# x = A^-1 * b\n",
    "\n",
    "# required conditions for matrix inverse to exist:\n",
    "# 1 must have square (same num of rows and cols)\n",
    "# 2 full rank means all cols provide unque information\n",
    "\n",
    "# pseudoinverse is sometimes indicated as A* or A^"
   ]
  },
  {
   "cell_type": "code",
   "execution_count": 42,
   "metadata": {},
   "outputs": [
    {
     "data": {
      "image/png": "[encoded data removed]",
      "text/plain": [
       "<Figure size 432x288 with 3 Axes>"
      ]
     },
     "metadata": {
      "needs_background": "light"
     },
     "output_type": "display_data"
    }
   ],
   "source": [
    "m = 5\n",
    "\n",
    "A = np.random.randint(-5,6,(m,m))\n",
    "\n",
    "\n",
    "\n",
    "Ainv = np.linalg.inv(A)\n",
    "\n",
    "fix,ax = plt.subplots(1,3)\n",
    "\n",
    "ax[0].imshow(A)\n",
    "ax[0].set_title('A')\n",
    "\n",
    "ax[1].imshow(Ainv)\n",
    "ax[1].set_title('A$^{-1}$')\n",
    "\n",
    "ax[2].imshow(A@Ainv)\n",
    "ax[2].set_title('AA$^{-1}$')\n",
    "\n",
    "plt.show()"
   ]
  },
  {
   "cell_type": "code",
   "execution_count": 159,
   "metadata": {},
   "outputs": [],
   "source": [
    "# experimental\n",
    "# fig,ax = plt.subplots(2,3,figsize=(10,6))\n",
    "# row,col = np.indices((2,3))\n",
    "\n",
    "# for i in range(len(mat_arr)):\n",
    "#     r = row.ravel()[i]\n",
    "#     c = col.ravel()[i]\n",
    "    \n",
    "#     ax[r,c].imshow(mat_arr[i])\n",
    "    "
   ]
  },
  {
   "cell_type": "code",
   "execution_count": 206,
   "metadata": {},
   "outputs": [
    {
     "data": {
      "image/png": "[encoded data removed]",
      "text/plain": [
       "<Figure size 432x288 with 6 Axes>"
      ]
     },
     "metadata": {
      "needs_background": "light"
     },
     "output_type": "display_data"
    }
   ],
   "source": [
    "# The Pseudoinvers Matrix\n",
    "# compute pseudoinverse\n",
    "\n",
    "#5x5 matrix of random integers between -5,5 where first col = second col\n",
    "m1_size = 5\n",
    "M1 = np.random.randint(-m1_size,m1_size+1,(m1_size,m1_size))\n",
    "M1[:,0] = M1[:,1] \n",
    "pseuInvM1 = np.linalg.pinv(M1)\n",
    "M1_mult = M1@pseuInvM1\n",
    "# print(pseuInvM1)\n",
    "\n",
    "# 5x7 matrix of Gaussian random numbers\n",
    "m2_size = 5\n",
    "M2 = np.random.normal(-5,5,(m2_size,m2_size+2))\n",
    "pseuInvM2 = np.linalg.pinv(M2)\n",
    "M2_mult = M2@pseuInvM2\n",
    "# print(pseuInvM2)\n",
    "\n",
    "mat_arr = [M1,pseuInvM1,M1_mult,M2,pseuInvM2,M2_mult]\n",
    "\n",
    "fig,ax = plt.subplots(2,3)\n",
    "row,col = np.indices((2,3))\n",
    "\n",
    "for i in range(len(mat_arr)):\n",
    "    r = row.ravel()[i]\n",
    "    c = col.ravel()[i]\n",
    "    \n",
    "    ax[r,c].imshow(mat_arr[i])\n",
    "\n",
    "# ax[0][0].imshow(M1)\n",
    "# ax[0][0].\n",
    "# print(fig,ax)\n",
    "\n",
    "plt.axis('off')\n",
    "plt.show()\n"
   ]
  },
  {
   "cell_type": "code",
   "execution_count": 211,
   "metadata": {},
   "outputs": [
    {
     "data": {
      "image/png": "[encoded data removed]",
      "text/plain": [
       "<Figure size 432x288 with 3 Axes>"
      ]
     },
     "metadata": {
      "needs_background": "light"
     },
     "output_type": "display_data"
    }
   ],
   "source": [
    "# The Pseudoinvers Matrix\n",
    "# compute pseudoinverse\n",
    "# instructed\n",
    "\n",
    "m = 5\n",
    "A = np.random.randint(-m,m+1,(m,m))\n",
    "A[:,0] = A[:,1]\n",
    "Apinv = np.linalg.pinv(A)\n",
    "\n",
    "fig,ax = plt.subplots(1,3)\n",
    "\n",
    "ax[0].imshow(A)\n",
    "ax[0].set_title('A')\n",
    "\n",
    "ax[1].imshow(Apinv)\n",
    "ax[1].set_title('A$^{-1}$')\n",
    "\n",
    "ax[2].imshow(A@Apinv)\n",
    "ax[2].set_title('AA$^{-1}$')\n",
    "\n",
    "plt.show()"
   ]
  },
  {
   "cell_type": "code",
   "execution_count": 213,
   "metadata": {},
   "outputs": [
    {
     "data": {
      "image/png": "[encoded data removed]",
      "text/plain": [
       "<Figure size 432x288 with 3 Axes>"
      ]
     },
     "metadata": {
      "needs_background": "light"
     },
     "output_type": "display_data"
    }
   ],
   "source": [
    "m = 5\n",
    "A = np.random.randn(m,m+2)\n",
    "# A[:,0] = A[:,1]\n",
    "Apinv = np.linalg.pinv(A)\n",
    "\n",
    "fig,ax = plt.subplots(1,3)\n",
    "\n",
    "ax[0].imshow(A)\n",
    "ax[0].set_title('A')\n",
    "\n",
    "ax[1].imshow(Apinv)\n",
    "ax[1].set_title('A$^{-1}$')\n",
    "\n",
    "ax[2].imshow(A@Apinv)\n",
    "ax[2].set_title('AA$^{-1}$')\n",
    "\n",
    "plt.show()"
   ]
  }
 ],
 "metadata": {
  "kernelspec": {
   "display_name": "Python 3",
   "language": "python",
   "name": "python3"
  },
  "language_info": {
   "codemirror_mode": {
    "name": "ipython",
    "version": 3
   },
   "file_extension": ".py",
   "mimetype": "text/x-python",
   "name": "python",
   "nbconvert_exporter": "python",
   "pygments_lexer": "ipython3",
   "version": "3.8.5"
  }
 },
 "nbformat": 4,
 "nbformat_minor": 4
}
