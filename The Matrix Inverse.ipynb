{
 "cells": [
  {
   "cell_type": "code",
   "execution_count": 4,
   "metadata": {},
   "outputs": [],
   "source": [
    "import numpy as np\n",
    "import matplotlib.pyplot as plt\n",
    "import sympy as sym"
   ]
  },
  {
   "cell_type": "code",
   "execution_count": 12,
   "metadata": {},
   "outputs": [],
   "source": [
    "# conventional technique used to solve for x: 3x = 1\n",
    "# use of scalar inverse: 3^(-1)3x = 3^(-1)1\n",
    "\n",
    "# 3^-1 is the inverse of 3\n",
    "\n",
    "# application in linear algebra:\n",
    "# Ax = b\n",
    "\n",
    "# (A^-1)*(Ax) = (A^-1) * (b)\n",
    "\n",
    "# since (A^-1) * (A) results in the identity matrix:\n",
    "# Ix = A^-1 * b\n",
    "# x = A^-1 * b\n",
    "\n",
    "# required conditions for matrix inverse to exist:\n",
    "# 1 must have square (same num of rows and cols)\n",
    "# 2 full rank means all cols provide unque information"
   ]
  },
  {
   "cell_type": "code",
   "execution_count": 24,
   "metadata": {},
   "outputs": [
    {
     "name": "stdout",
     "output_type": "stream",
     "text": [
      "[[-4  0  1  0  2]\n",
      " [ 1 -1  3 -5 -4]\n",
      " [-4  3 -4  2 -3]\n",
      " [ 1 -4  1 -3 -4]\n",
      " [ 2  2  4  3 -5]]\n",
      "\n",
      "\n",
      "[[-0.19968336  0.00257273 -0.06392242 -0.05026717 -0.00336434]\n",
      " [-0.070849    0.17435187  0.05264199 -0.25272116  0.00277063]\n",
      " [ 0.14347912  0.04076786 -0.08984762 -0.02731051  0.10053434]\n",
      " [ 0.03720562 -0.19770433 -0.01088462  0.09360776  0.10469028]\n",
      " [ 0.02889373 -0.01523847 -0.08292104 -0.08687908 -0.05699584]]\n"
     ]
    }
   ],
   "source": [
    "m = 5\n",
    "\n",
    "A = np.random.randint(-5,5,(m,m))\n",
    "Ainv = np.linalg.inv(A)\n",
    "\n",
    "print(A)\n",
    "print('\\n') \n",
    "print(Ainv)"
   ]
  }
 ],
 "metadata": {
  "kernelspec": {
   "display_name": "Python 3",
   "language": "python",
   "name": "python3"
  },
  "language_info": {
   "codemirror_mode": {
    "name": "ipython",
    "version": 3
   },
   "file_extension": ".py",
   "mimetype": "text/x-python",
   "name": "python",
   "nbconvert_exporter": "python",
   "pygments_lexer": "ipython3",
   "version": "3.8.5"
  }
 },
 "nbformat": 4,
 "nbformat_minor": 4
}
