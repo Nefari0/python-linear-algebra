{
 "cells": [
  {
   "cell_type": "code",
   "execution_count": 27,
   "metadata": {},
   "outputs": [],
   "source": [
    "import numpy as np\n",
    "import matplotlib.pyplot as plt\n",
    "import sympy as sym"
   ]
  },
  {
   "cell_type": "code",
   "execution_count": 25,
   "metadata": {},
   "outputs": [
    {
     "name": "stdout",
     "output_type": "stream",
     "text": [
      "[ 3. -1.  4.]\n",
      "[ 3. -1.  4.]\n"
     ]
    }
   ],
   "source": [
    "# experimental/concepts\n",
    "X = np.array([ [2,1,-1],[3,4,2],[1,-5,-2] ])\n",
    "y = np.array([1,13,0])\n",
    "\n",
    "beta1 = np.linalg.inv(X.T@X) @ (X.T@y)\n",
    "beta2 = np.linalg.solve(X,y)\n",
    "print(beta1)\n",
    "print(beta2)"
   ]
  },
  {
   "cell_type": "markdown",
   "metadata": {},
   "source": [
    "### exercise.experimental"
   ]
  },
  {
   "cell_type": "code",
   "execution_count": 67,
   "metadata": {},
   "outputs": [
    {
     "name": "stdout",
     "output_type": "stream",
     "text": [
      "[4. 6.]\n"
     ]
    }
   ],
   "source": [
    "\n",
    "System1 = np.array([ [3,-1],[-1,1] ])\n",
    "sys1Y = np.array( [6,2] )\n",
    "beta1 = np.linalg.solve(System1,sys1Y)\n",
    "print(beta1)\n"
   ]
  },
  {
   "cell_type": "code",
   "execution_count": 20,
   "metadata": {},
   "outputs": [
    {
     "name": "stdout",
     "output_type": "stream",
     "text": [
      "[2. 0.]\n"
     ]
    }
   ],
   "source": [
    "System2 = np.array([ [3,-1],[1.5,.5] ])\n",
    "sys2Y = np.array( [6,3] )\n",
    "beta2 = np.linalg.solve(System2,sys2Y)\n",
    "print(beta2)"
   ]
  },
  {
   "cell_type": "code",
   "execution_count": 24,
   "metadata": {},
   "outputs": [
    {
     "name": "stdout",
     "output_type": "stream",
     "text": [
      "[ 1.66666667 -1.        ]\n"
     ]
    }
   ],
   "source": [
    "System3 = np.array([ [3,-1],[1.5,.5] ])\n",
    "sys3Y = np.array( [6,2] )\n",
    "beta3 = np.linalg.solve(System3,sys3Y)\n",
    "print(beta3)"
   ]
  },
  {
   "cell_type": "markdown",
   "metadata": {},
   "source": [
    "### Exercise. Instructed"
   ]
  },
  {
   "cell_type": "code",
   "execution_count": 60,
   "metadata": {},
   "outputs": [
    {
     "name": "stdout",
     "output_type": "stream",
     "text": [
      "[ True  True]\n"
     ]
    }
   ],
   "source": [
    "X1 = np.array([ [3,-1],[-1,1] ])\n",
    "y1 = np.array( [6,2] )\n",
    "\n",
    "\n",
    "X2 = np.array([ [3,-1],[1.5,-.5] ])\n",
    "y2 = np.array( [6,3] )\n",
    "\n",
    "X3 = np.array([ [3,-1],[1.5,-.5] ])\n",
    "y3 = np.array( [6,2] )\n",
    "print()"
   ]
  },
  {
   "cell_type": "code",
   "execution_count": 66,
   "metadata": {},
   "outputs": [
    {
     "name": "stdout",
     "output_type": "stream",
     "text": [
      "[4. 6.]\n"
     ]
    },
    {
     "data": {
      "image/png": "[encoded data removed]",
      "text/plain": [
       "<Figure size 432x288 with 1 Axes>"
      ]
     },
     "metadata": {
      "needs_background": "light"
     },
     "output_type": "display_data"
    }
   ],
   "source": [
    "#  case 1)\n",
    "\n",
    "xlim = np.array([0,10])\n",
    "\n",
    "#  convert to y = mx + b format\n",
    "yy1 = -X1[0,0]/X1[0,1]*xlim + y1[0]/X1[0,1]\n",
    "yy2 = -X1[1,0]/X1[1,1]*xlim + y1[1]/X1[1,1]\n",
    "\n",
    "plt.plot(xlim,yy1,'b',label=\"eq 1\")\n",
    "plt.plot(xlim,yy2,'r',label=\"eq 2\")\n",
    "\n",
    "# solve the system\n",
    "b = np.linalg.solve(X1,y1)\n",
    "print(b)\n",
    "plt.plot(b[0],b[1],'ko',label=\"solution\")\n",
    "\n",
    "plt.legend()\n",
    "plt.grid()"
   ]
  },
  {
   "cell_type": "markdown",
   "metadata": {},
   "source": []
  }
 ],
 "metadata": {
  "kernelspec": {
   "display_name": "Python 3",
   "language": "python",
   "name": "python3"
  },
  "language_info": {
   "codemirror_mode": {
    "name": "ipython",
    "version": 3
   },
   "file_extension": ".py",
   "mimetype": "text/x-python",
   "name": "python",
   "nbconvert_exporter": "python",
   "pygments_lexer": "ipython3",
   "version": "3.8.5"
  }
 },
 "nbformat": 4,
 "nbformat_minor": 4
}
